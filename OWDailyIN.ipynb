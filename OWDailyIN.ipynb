{
 "cells": [
  {
   "cell_type": "markdown",
   "id": "7d94ba42-6c9e-46bf-8e58-a940c2aeaef7",
   "metadata": {},
   "source": [
    "### Daily ice-numeral calculation: Open Water Vessels(OW):"
   ]
  },
  {
   "cell_type": "markdown",
   "id": "049cd525-cfe5-4f33-aec7-8fc95421dd19",
   "metadata": {},
   "source": [
    "#### Taking daily icefrac and icethic data for MJJASO and finding how many navigable days come up in 2035, 2050, 2069 in SSP and ARISE:"
   ]
  },
  {
   "cell_type": "code",
   "execution_count": 1,
   "id": "50c10268-9275-4909-897d-99f7171b6627",
   "metadata": {},
   "outputs": [],
   "source": [
    "#following the exact same approach as PC6 IN calculation, only changing limits in the ice_numeral function\n",
    "import io\n",
    "import os\n",
    "import sys\n",
    "import warnings\n",
    "import numpy as np\n",
    "import xarray as xr\n",
    "import pandas as pd\n",
    "# for calculations and masking regions\n",
    "import numpy as np\n",
    "import numpy.ma as ma\n",
    "\n",
    "# for making figures\n",
    "import matplotlib as mpl\n",
    "import matplotlib.pyplot as plt\n",
    "import matplotlib.colors as mcolors\n",
    "import matplotlib.path as mpath\n",
    "\n",
    "# for making maps\n",
    "import cartopy\n",
    "import cartopy.crs as ccrs\n",
    "from cartopy.util import add_cyclic_point\n",
    "import cartopy.feature as cfeature\n",
    "\n",
    "workingdir = '/Users/dpathak/Desktop/REU/notebooks/'   \n",
    "dataDir = '/Users/dpathak/Desktop/REU/data/icefracDaily/'\n",
    "figuredir = '/Users/dpathak/Desktop/REU/figures/Ice Numeral/'\n",
    "ens = ['001','002','003','004','005','006','007','008','009','010']\n",
    "   "
   ]
  },
  {
   "cell_type": "code",
   "execution_count": 2,
   "id": "b990e5ef-fde1-4e3d-b206-46aa356eb2d3",
   "metadata": {},
   "outputs": [],
   "source": [
    "###ICEFRAC DAILY DATA\n",
    "#### read data\n",
    "# make empty dictionaries to hold all ensemble members\n",
    "icefracDailyCONTROL  = {}\n",
    "icefracDailyFEEDBACK = {}\n",
    "icefracDailyFEEDBACKGrouped = {}\n",
    "icefracDailyCONTROLGrouped = {}\n",
    "\n",
    "for ensNum in range(len(ens)):\n",
    "    ## ARISE\n",
    "    ds = xr.open_dataset(dataDir +\n",
    "                             'b.e21.BW.f09_g17.SSP245-TSMLT-GAUSS-DEFAULT.' + str(ens[ensNum]) +\n",
    "                             '.cice.h1.aice_d_only.may-october.20350101-20691231_RG_NH.nc')\n",
    "\n",
    "    latIceIN = ds.lat; lonIceIN = ds.lon\n",
    "    time = ds.time\n",
    "    # print(ds.keys())\n",
    "    icefracDailyFEEDBACK[ens[ensNum]] =ds.aice_d\n",
    "    ds.close()\n",
    "       \n",
    "    ## SSP\n",
    "    ds = xr.open_dataset(dataDir +\n",
    "                             'b.e21.BWSSP245cmip6.f09_g17.CMIP6-SSP2-4.5-WACCM.' + str(ens[ensNum]) +\n",
    "                             '.cice.h1.aice_d_only.may-october.20150101-20691231_RG_NH.nc')\n",
    "    # ds['time'] = pd.date_range(start=pd.to_datetime(\"2015-01-01\"),periods=ds.sizes['time'], freq='MS')\n",
    "    # print(ds.time)\n",
    "    icefracDailyCONTROL[ens[ensNum]] = ds.aice_d\n",
    "    time = ds.time\n",
    "    ds.close()"
   ]
  },
  {
   "cell_type": "code",
   "execution_count": 3,
   "id": "3864684a-b6f1-47fa-9e4d-1b61e91f285a",
   "metadata": {},
   "outputs": [],
   "source": [
    "#getting daily ensemble means\n",
    "random1 = 0\n",
    "random2 = 0\n",
    "for ensNum in range(len(ens)):\n",
    "    random1 = random1 + icefracDailyCONTROL[ens[ensNum]]\n",
    "    icefracDailyEnsmeanSSP = random1\n",
    "    random2 = random2 + icefracDailyFEEDBACK[ens[ensNum]]\n",
    "    icefracDailyEnsmeanARISE = random2\n",
    "    \n",
    "icefracDailyEnsmeanSSP = icefracDailyEnsmeanSSP/10\n",
    "icefracDailyEnsmeanARISE = icefracDailyEnsmeanARISE/10"
   ]
  },
  {
   "cell_type": "code",
   "execution_count": 4,
   "id": "810ce100-bd80-4346-b121-9cc99dace3db",
   "metadata": {},
   "outputs": [],
   "source": [
    "###ICETHIC DAILY DATA\n",
    "dataDir = '/Users/dpathak/Desktop/REU/data/icethicDaily/'\n",
    "icethicDailyCONTROL  = {}\n",
    "icethicDailyFEEDBACK = {}\n",
    "icethicDailyFEEDBACKGrouped = {}\n",
    "icethicDailyCONTROLGrouped = {}\n",
    "\n",
    "for ensNum in range(len(ens)):\n",
    "    ## ARISE\n",
    "    ds = xr.open_dataset(dataDir +\n",
    "                             'b.e21.BW.f09_g17.SSP245-TSMLT-GAUSS-DEFAULT.' + str(ens[ensNum]) +\n",
    "                             '.cice.h1.sithick_d_only.may-october.20350101-20691231_RG_NH.nc')\n",
    "\n",
    "    latIceIN = ds.lat; lonIceIN = ds.lon\n",
    "    time = ds.time\n",
    "    # print(ds.keys())\n",
    "    icethicDailyFEEDBACK[ens[ensNum]] =ds.sithick_d\n",
    "    ds.close()\n",
    "       \n",
    "    ## SSP\n",
    "    ds = xr.open_dataset(dataDir +\n",
    "                             'b.e21.BWSSP245cmip6.f09_g17.CMIP6-SSP2-4.5-WACCM.' + str(ens[ensNum]) +\n",
    "                             '.cice.h1.sithick_d_only.may-october.20150101-20691231_RG_NH.nc')\n",
    "    # ds['time'] = pd.date_range(start=pd.to_datetime(\"2015-01-01\"),periods=ds.sizes['time'], freq='MS')\n",
    "    # print(ds.time)\n",
    "    # print(ds.keys())\n",
    "    icethicDailyCONTROL[ens[ensNum]] = ds.sithick_d\n",
    "    time = ds.time\n",
    "    ds.close()"
   ]
  },
  {
   "cell_type": "code",
   "execution_count": 5,
   "id": "bc56cc2e-0931-4ddd-b012-dc97a860cf25",
   "metadata": {},
   "outputs": [],
   "source": [
    "#getting daily ensemble means\n",
    "random3 = 0\n",
    "random4 = 0\n",
    "for ensNum in range(len(ens)):\n",
    "    random3 = random3 + icethicDailyCONTROL[ens[ensNum]]\n",
    "    icethicDailyEnsmeanSSP = random3\n",
    "    random4= random4 + icethicDailyFEEDBACK[ens[ensNum]]\n",
    "    icethicDailyEnsmeanARISE = random4\n",
    "    \n",
    "icethicDailyEnsmeanSSP = icethicDailyEnsmeanSSP/10\n",
    "icethicDailyEnsmeanARISE = icethicDailyEnsmeanARISE/10"
   ]
  },
  {
   "cell_type": "code",
   "execution_count": 6,
   "id": "05fb2bcb-4634-45f5-86ce-bcbd95073dcf",
   "metadata": {},
   "outputs": [],
   "source": [
    "###getting data from 2035 to 2069 MJJASO\n",
    "years = ['2035','2036','2037','2038','2039','2040',\n",
    "         '2041','2042','2043','2044','2045','2046','2047','2048','2049','2050',\n",
    "         '2051','2052','2053','2054','2055','2056','2057','2058','2059','2060',\n",
    "         '2061','2062','2063','2064','2065','2066','2067','2068','2069']"
   ]
  },
  {
   "cell_type": "code",
   "execution_count": 12,
   "id": "e60dc1aa-bbba-4d72-9c81-834cc1150b2d",
   "metadata": {},
   "outputs": [],
   "source": [
    "import geopandas as gpd"
   ]
  },
  {
   "cell_type": "code",
   "execution_count": 13,
   "id": "6f5f44b0-db63-4638-9f2e-f388caf63a90",
   "metadata": {},
   "outputs": [
    {
     "data": {
      "text/plain": [
       "<Axes: >"
      ]
     },
     "execution_count": 13,
     "metadata": {},
     "output_type": "execute_result"
    },
    {
     "data": {
      "image/png": "[encoded data removed]",
      "text/plain": [
       "<Figure size 800x600 with 1 Axes>"
      ]
     },
     "metadata": {},
     "output_type": "display_data"
    }
   ],
   "source": [
    "fname = r'/Users/dpathak/Desktop/REU/data/Shipping_and_Hydrography/Arctic_Sea_Routes.shp'\n",
    "shapes = gpd.read_file(fname)\n",
    "shippingRoutes = shapes.loc[:, 'geometry']\n",
    "fig,ax = plt.subplots(figsize=(8,6))\n",
    "shippingRoutes.plot(ax=ax, cmap='Accent')"
   ]
  },
  {
   "cell_type": "code",
   "execution_count": 14,
   "id": "b897d844-7555-40ae-b75a-61f01f5971f1",
   "metadata": {},
   "outputs": [],
   "source": [
    "#open water OW vessels\n",
    "\n",
    "def ice_numeral_OW(icefrac, icethic):\n",
    "    IN = []\n",
    "    if np.isnan(icethic.values):\n",
    "        IN = np.nan\n",
    "    elif icethic.values == 0.0:\n",
    "        IN = icefrac*2\n",
    "    elif 0 < icethic.values < 0.15:\n",
    "        IN = icefrac*1\n",
    "    elif 0.15 <= icethic.values < 0.7:\n",
    "        IN = icefrac*(-1)\n",
    "    elif 0.7 <= icethic.values < 1.2:\n",
    "        IN = icefrac*(-2)\n",
    "    elif 1.2 <= icethic.values < 1.51:\n",
    "        IN = icefrac*(-3)\n",
    "    else:\n",
    "        IN = icefrac*(-4)\n",
    "    return IN\n",
    "    print(IN)\n",
    "    IN = np.nan_to_num(IN,nan=1)\n",
    "    print(IN)\n",
    "    IN[IN>=0] = 1\n",
    "    IN[IN<0] = 0\n",
    "    INsum = np.sum(IN, axis = 0)\n",
    "    return INsum\n"
   ]
  },
  {
   "cell_type": "code",
   "execution_count": null,
   "id": "9ab0e018-c5c4-4c49-acc0-c37a0536eefd",
   "metadata": {},
   "outputs": [],
   "source": [
    "SSP_iceNumeral = np.zeros((len(years),len(latIceIN),len(lonIceIN)))\n",
    "ARISE_iceNumeral = np.zeros((len(years),len(latIceIN),len(lonIceIN)))\n",
    "for iyear in range(len(years)):\n",
    "    print(years[iyear])\n",
    "    icefracSSP = icefracDailyEnsmeanSSP.sel(time=slice(str(years[iyear] + '-05-01'), str(years[iyear] + '-10-31')))\n",
    "    icefracARISE = icefracDailyEnsmeanARISE.sel(time=slice(str(years[iyear] + '-05-01'), str(years[iyear] + '-10-31')))\n",
    "    icethicSSP = icethicDailyEnsmeanSSP.sel(time=slice(str(years[iyear] + '-05-01'), str(years[iyear] + '-10-31'))) \n",
    "    icethicARISE = icethicDailyEnsmeanARISE.sel(time=slice(str(years[iyear] + '-05-01'), str(years[iyear] + '-10-31')))\n",
    "    for ilat in range(len(latIceIN)):\n",
    "        for ilon in range(len(lonIceIN)):\n",
    "            for iday in range(len(icefracSSP[:,ilat,ilon])):\n",
    "                #print(icethicSSP[iday,ilat,ilon])\n",
    "                SSP_iceNumeral[iyear,ilat,ilon] = ice_numeral_OW(icefracSSP[iday,ilat,ilon],icethicSSP[iday,ilat,ilon])\n",
    "                ARISE_iceNumeral[iyear,ilat,ilon] = ice_numeral_OW(icefracARISE[iday,ilat,ilon],icethicARISE[iday,ilat,ilon])\n",
    "np.save('OWIceNum_SSP.npy',SSP_iceNumeral)\n",
    "np.save('OWIceNum_ARISE.npy',ARISE_iceNumeral)"
   ]
  },
  {
   "cell_type": "code",
   "execution_count": null,
   "id": "c7405870-6591-4744-adee-7f0cb704347f",
   "metadata": {},
   "outputs": [],
   "source": [
    "ARISE_inOW = np.load('OWIceNum_ARISE.npy')\n",
    "SSP_inOW = np.load('OWIceNum_SSP.npy')"
   ]
  },
  {
   "cell_type": "code",
   "execution_count": null,
   "id": "1deb6cee-b7b2-4d9e-8ee9-153d651a7ae1",
   "metadata": {},
   "outputs": [],
   "source": [
    "SSP_in2035 = SSP_inOW[0]\n",
    "ARISE_in2035 = ARISE_inOW[0]\n",
    "SSP_in2050 = SSP_inOW[15]\n",
    "ARISE_in2050 = ARISE_inOW[15]\n",
    "SSP_in2069 = SSP_inOW[34]\n",
    "ARISE_in2069 = ARISE_inOW[34]"
   ]
  },
  {
   "cell_type": "code",
   "execution_count": null,
   "id": "c22a2bc3-bb3f-4edf-9201-7472d1dee964",
   "metadata": {},
   "outputs": [],
   "source": [
    "def subplots(ax, var, latplot, lonplot, norm, i, mycmap, nameIN):\n",
    "    var,lon = add_cyclic_point(var,coord=lonplot)\n",
    "    ax.set_extent([180, -180, 50, 90], crs=ccrs.PlateCarree())\n",
    "    theta = np.linspace(0, 2*np.pi, 100)\n",
    "    center, radius = [0.5, 0.5], 0.5\n",
    "    verts = np.vstack([np.sin(theta), np.cos(theta)]).T\n",
    "    circle = mpath.Path(verts * radius + center)\n",
    "    ax.set_boundary(circle, transform=ax.transAxes)\n",
    "    ax.set_facecolor('0.98')\n",
    "    \n",
    "    cf1 = ax.pcolormesh(lon,latplot,var,transform=ccrs.PlateCarree(), \n",
    "                  norm=norm, cmap=mycmap)\n",
    "    ax.coastlines(linewidth=-0.8)\n",
    "    ax.add_feature(cfeature.NaturalEarthFeature('physical', 'land', '10m', edgecolor = 'black', facecolor = 'black'))\n",
    "    ax.set_title(str(nameIN))\n",
    "    plt.savefig(figuredir + str(nameIN) + '.jpg', dpi=1000, bbox_inches='tight')\n",
    "    return cf1"
   ]
  },
  {
   "cell_type": "code",
   "execution_count": null,
   "id": "9fb39c2a-0f7c-42e1-92a4-341582b441d3",
   "metadata": {},
   "outputs": [],
   "source": [
    "#plotting SSP for 2035, 2050, 2069\n",
    "fig = plt.figure(figsize =(10,6))\n",
    "cols = 3; rows =1 \n",
    "vmins = 0\n",
    "vmaxs = 25\n",
    "INdictnew5 = {}\n",
    "INdictnew5[0] = SSP_in2035\n",
    "INdictnew5[1] = SSP_in2050\n",
    "INdictnew5[2] = SSP_in2069\n",
    "\n",
    "nameIN5 = {}\n",
    "nameIN5[0] = ('SSP2-4.5 2035')\n",
    "nameIN5[1] = ('SSP2-4.5 2050')\n",
    "nameIN5[2] = ('SSP2-4.5 2069')\n",
    "\n",
    "for i in range(1, cols*rows+1):\n",
    "    mycmap = 'tab20b'\n",
    "    norm = mcolors.Normalize(vmin=vmins, vmax=vmaxs)\n",
    "    ax = fig.add_subplot(rows, cols, i, projection=ccrs.NorthPolarStereo())\n",
    "cf1 = subplots(ax, INdictnew5[i-1], latIceIN, lonIceIN, norm, i, mycmap, nameIN5[i-1])\n",
    "shippingRoutes.plot(ax=ax, cmap='cubehelix', linestyle='--')\n",
    "cbar_ax = fig.add_axes([0.14, 0.18, 0.75, 0.04])\n",
    "cbar = plt.colorbar(cf1, cax=cbar_ax, orientation = 'horizontal', extend ='max')\n",
    "cbar.set_label('No. of OW Navigable Days', fontsize = 10)"
   ]
  },
  {
   "cell_type": "code",
   "execution_count": null,
   "id": "a1e8aa83-ab92-4948-9906-aeb431b4e5d6",
   "metadata": {},
   "outputs": [],
   "source": [
    "#plotting ARISE for 2035, 2050, 2069\n",
    "fig = plt.figure(figsize =(10,6))\n",
    "cols = 3; rows =1 \n",
    "vmins = 0\n",
    "vmaxs = 25\n",
    "INdictnew6 = {}\n",
    "INdictnew6[0] = ARISE_in2035\n",
    "INdictnew6[1] = ARISE_in2050\n",
    "INdictnew6[2] = ARISE_in2069\n",
    "\n",
    "nameIN6 = {}\n",
    "nameIN6[0] = ('ARISE-1.5 2035')\n",
    "nameIN6[1] = ('ARISE-1.5 2050')\n",
    "nameIN6[2] = ('ARISE-1.5 2069')\n",
    "\n",
    "for i in range(1, cols*rows+1):\n",
    "    mycmap = 'tab20b'\n",
    "    norm = mcolors.Normalize(vmin=vmins, vmax=vmaxs)\n",
    "    ax = fig.add_subplot(rows, cols, i, projection=ccrs.NorthPolarStereo())\n",
    "cf1 = subplots(ax, INdictnew6[i-1], latIceIN, lonIceIN, norm, i, mycmap, nameIN6[i-1])\n",
    "shippingRoutes.plot(ax=ax, cmap='cubehelix', linestyle='--')\n",
    "cbar_ax = fig.add_axes([0.14, 0.18, 0.75, 0.04])\n",
    "cbar = plt.colorbar(cf1, cax=cbar_ax, orientation = 'horizontal', extend ='max')\n",
    "cbar.set_label('No. of OW Navigable Days', fontsize = 10)"
   ]
  },
  {
   "cell_type": "code",
   "execution_count": null,
   "id": "643a47b3-81a1-41a1-b759-f6b1ac5759d6",
   "metadata": {},
   "outputs": [],
   "source": [
    "#differences:\n",
    "SSP2050_35 = SSP_in2050 - SSP_in2035\n",
    "SSP2069_50 = SSP_in2069 - SSP_in2050\n",
    "ARISE2050_35 = ARISE_in2050 - ARISE_in2035\n",
    "ARISE2069_50 = ARISE_in2069 - ARISE_in2050"
   ]
  },
  {
   "cell_type": "code",
   "execution_count": null,
   "id": "10202d92-e6cb-4d7e-a77b-ea9fccce17ab",
   "metadata": {},
   "outputs": [],
   "source": [
    "#plotting SSP differences\n",
    "fig = plt.figure(figsize =(10,6))\n",
    "cols = 2; rows =1 \n",
    "vmins = -20\n",
    "vmaxs = 20\n",
    "INdictnew7 = {}\n",
    "INdictnew7[0] = SSP2050_35\n",
    "INdictnew7[1] = SSP2069_50\n",
    "\n",
    "nameIN7 = {}\n",
    "nameIN7[0] = ('SSP 2050-35 diff')\n",
    "nameIN7[1] = ('SSP 2069-50 diff')\n",
    "\n",
    "for i in range(1, cols*rows+1):\n",
    "    mycmap = 'BrBG'\n",
    "    norm = mcolors.TwoSlopeNorm(vmin=vmins, vcenter=0, vmax=vmaxs)\n",
    "    ax = fig.add_subplot(rows, cols, i, projection=ccrs.NorthPolarStereo())\n",
    "cf1 = subplots(ax, INdictnew7[i-1], latIceIN, lonIceIN, norm, i, mycmap, nameIN7[i-1])\n",
    "shippingRoutes.plot(ax=ax, cmap='cubehelix', linestyle='--')\n",
    "cbar_ax = fig.add_axes([0.14, 0.18, 0.75, 0.04])\n",
    "cbar = plt.colorbar(cf1, cax=cbar_ax, orientation = 'horizontal', extend ='max')\n",
    "cbar.set_label('Difference in no. of OW Navigable Days', fontsize = 10)"
   ]
  },
  {
   "cell_type": "code",
   "execution_count": null,
   "id": "dd91f69d-cb2d-4135-85cf-15d260931523",
   "metadata": {},
   "outputs": [],
   "source": [
    "#plotting ARISE differences\n",
    "fig = plt.figure(figsize =(10,6))\n",
    "cols = 2; rows =1 \n",
    "vmins = -20\n",
    "vmaxs = 20\n",
    "INdictnew8 = {}\n",
    "INdictnew8[0] = ARISE2050_35\n",
    "INdictnew8[1] = ARISE2069_50\n",
    "\n",
    "nameIN8 = {}\n",
    "nameIN8[0] = ('ARISE 2050-35 diff')\n",
    "nameIN8[1] = ('ARISE 2069-50 diff')\n",
    "\n",
    "for i in range(1, cols*rows+1):\n",
    "    mycmap = 'BrBG'\n",
    "    norm = mcolors.TwoSlopeNorm(vmin=vmins, vcenter=0, vmax=vmaxs)\n",
    "    ax = fig.add_subplot(rows, cols, i, projection=ccrs.NorthPolarStereo())\n",
    "cf1 = subplots(ax, INdictnew8[i-1], latIceIN, lonIceIN, norm, i, mycmap, nameIN8[i-1])\n",
    "shippingRoutes.plot(ax=ax, cmap='cubehelix', linestyle='--')\n",
    "cbar_ax = fig.add_axes([0.14, 0.18, 0.75, 0.04])\n",
    "cbar = plt.colorbar(cf1, cax=cbar_ax, orientation = 'horizontal', extend ='max')\n",
    "cbar.set_label('Difference in no. of OW Navigable Days', fontsize = 10)"
   ]
  }
 ],
 "metadata": {
  "kernelspec": {
   "display_name": "Kernel for REU",
   "language": "python",
   "name": "conda-env-csu"
  },
  "language_info": {
   "codemirror_mode": {
    "name": "ipython",
    "version": 3
   },
   "file_extension": ".py",
   "mimetype": "text/x-python",
   "name": "python",
   "nbconvert_exporter": "python",
   "pygments_lexer": "ipython3",
   "version": "3.11.3"
  }
 },
 "nbformat": 4,
 "nbformat_minor": 5
}
